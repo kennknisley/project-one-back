{
 "cells": [
  {
   "cell_type": "code",
   "execution_count": 1,
   "metadata": {},
   "outputs": [],
   "source": [
    "import csv\n",
    "import matplotlib.pyplot as plt\n",
    "import requests\n",
    "from scipy import stats\n",
    "import pandas as pd\n",
    "from time import strftime\n",
    "from datetime import datetime\n",
    "\n",
    "import os\n",
    "import numpy as np"
   ]
  },
  {
   "cell_type": "code",
   "execution_count": null,
   "metadata": {
    "scrolled": true
   },
   "outputs": [],
   "source": [
    "#read the data in\n",
    "data = pd.read_csv(\"condensedata.csv\").T\n",
    "\n",
    "#keep only the columns I'm working on\n",
    "data = data[[3,4,5]]\n",
    "\n",
    "#drop the first row with column names\n",
    "data = data.drop(data.index[0])\n",
    "\n",
    "#reset the index so it's easier to get the year\n",
    "data = data.reset_index()\n",
    "\n",
    "#rename the columns to something easier to understand\n",
    "data.columns = [\"Year\",\"Tax on Int Trade\",\"Tax Revenue\",\"Surface Area\"]\n",
    "\n",
    "#drop empty data fields\n",
    "data = data.dropna()\n",
    "\n",
    "# #check out the data\n",
    "data.info()"
   ]
  },
  {
   "cell_type": "code",
   "execution_count": null,
   "metadata": {},
   "outputs": [],
   "source": [
    "quakes = pd.read_csv(\"earthquakedata.csv\")\n",
    "quakestime = pd.DataFrame(quakes)\n",
    "quakestime[\"Time\"] = pd.to_datetime(quakestime[\"Time\"],unit='ms')\n",
    "quakestime = pd.DataFrame(quakestime)\n",
    "quakestime[\"Time\"] = quakestime[\"Time\"].astype(\"str\")\n",
    "quakestime[\"Year\"] = pd.DatetimeIndex(quakestime[\"Time\"]).year\n",
    "quakestime = quakestime[[\"Year\",\"Magnitude\"]]\n",
    "maxquake = quakestime.groupby(\"Year\")\n",
    "maxquake = maxquake.max()\n",
    "maxquake = maxquake.reset_index()\n",
    "maxquake = maxquake[(maxquake[\"Year\"] > 1971) & (maxquake[\"Year\"]<2019)]\n",
    "maxquake[\"Year\"] = maxquake[\"Year\"].astype(str)\n",
    "all_data = pd.merge(data,maxquake,on=\"Year\")"
   ]
  },
  {
   "cell_type": "code",
   "execution_count": null,
   "metadata": {},
   "outputs": [],
   "source": [
    "y = all_data[\"Tax on Int Trade\"]\n",
    "x = all_data[\"Year\"]\n",
    "y2 = all_data[\"Magnitude\"]\n",
    "tick_locations = [value for value in x]\n",
    "\n",
    "fig, ax1 = plt.subplots()\n",
    "ax2 = ax1.twinx()\n",
    "ax1.plot(x, y)\n",
    "ax2.plot(x,y2,'g-')\n",
    "ax1.set_ylabel(\"Taxes on International Trade - % of Revenue\")\n",
    "ax1.set_xlabel(\"Year\")\n",
    "ax1.set_title(\"Taxes on International Trade by Year ; Largest Earthquake\")\n",
    "ax1.set_xticklabels(all_data[\"Year\"],rotation=\"vertical\")\n",
    "ax2.set_ylabel(\"Max Earthquake Recorded\")\n",
    "plt.show()"
   ]
  },
  {
   "cell_type": "code",
   "execution_count": null,
   "metadata": {},
   "outputs": [],
   "source": [
    "y = all_data[\"Tax Revenue\"]\n",
    "x = all_data[\"Year\"]\n",
    "y2 = all_data[\"Magnitude\"]\n",
    "tick_locations = [value for value in x]\n",
    "\n",
    "fig, ax1 = plt.subplots()\n",
    "ax2 = ax1.twinx()\n",
    "ax1.plot(x, y)\n",
    "ax2.plot(x,y2,'g-')\n",
    "ax1.set_ylabel(\"Taxes Revenue % of GDP\")\n",
    "ax1.set_xlabel(\"Year\")\n",
    "ax1.set_title(\"Taxes Revenue % of GDP ; Largest Earthquake\")\n",
    "ax1.set_xticklabels(all_data[\"Year\"],rotation=\"vertical\")\n",
    "ax2.set_ylabel(\"Max Earthquake Recorded\")\n",
    "plt.show()"
   ]
  },
  {
   "cell_type": "code",
   "execution_count": null,
   "metadata": {},
   "outputs": [],
   "source": [
    "y = all_data[\"Surface Area\"]\n",
    "x = all_data[\"Year\"]\n",
    "y2 = all_data[\"Magnitude\"]\n",
    "tick_locations = [value for value in x]\n",
    "\n",
    "fig, ax1 = plt.subplots()\n",
    "ax2 = ax1.twinx()\n",
    "ax1.plot(x, y)\n",
    "ax2.plot(x,y2,'g-')\n",
    "ax1.set_ylabel(\"Surface Area (sq. KM)\")\n",
    "ax1.set_xlabel(\"Year\")\n",
    "ax1.set_title(\"Surface Area ; Largest Earthquake\")\n",
    "ax1.set_xticklabels(all_data[\"Year\"],rotation=\"vertical\")\n",
    "ax2.set_ylabel(\"Max Earthquake Recorded\")\n",
    "plt.show()"
   ]
  },
  {
   "cell_type": "markdown",
   "metadata": {},
   "source": [
    "Angie's Work Starts Here ~~~~~~~~~~~~~~~~~~~~~~~~~~~~~~~~~~~~~~~~~~~~~~~~~~~~~~~~~~~~~~~~~~~~~~~~~~~~~~~~~~~~~~~~~~~~~~~~~~~~"
   ]
  },
  {
   "cell_type": "code",
   "execution_count": 2,
   "metadata": {},
   "outputs": [
    {
     "data": {
      "text/html": [
       "<div>\n",
       "<style scoped>\n",
       "    .dataframe tbody tr th:only-of-type {\n",
       "        vertical-align: middle;\n",
       "    }\n",
       "\n",
       "    .dataframe tbody tr th {\n",
       "        vertical-align: top;\n",
       "    }\n",
       "\n",
       "    .dataframe thead th {\n",
       "        text-align: right;\n",
       "    }\n",
       "</style>\n",
       "<table border=\"1\" class=\"dataframe\">\n",
       "  <thead>\n",
       "    <tr style=\"text-align: right;\">\n",
       "      <th></th>\n",
       "      <th>Year</th>\n",
       "      <th>Magnitude</th>\n",
       "    </tr>\n",
       "  </thead>\n",
       "  <tbody>\n",
       "    <tr>\n",
       "      <th>0</th>\n",
       "      <td>2020</td>\n",
       "      <td>4.5</td>\n",
       "    </tr>\n",
       "    <tr>\n",
       "      <th>1</th>\n",
       "      <td>2020</td>\n",
       "      <td>4.5</td>\n",
       "    </tr>\n",
       "    <tr>\n",
       "      <th>2</th>\n",
       "      <td>2020</td>\n",
       "      <td>4.3</td>\n",
       "    </tr>\n",
       "    <tr>\n",
       "      <th>3</th>\n",
       "      <td>2020</td>\n",
       "      <td>4.2</td>\n",
       "    </tr>\n",
       "    <tr>\n",
       "      <th>4</th>\n",
       "      <td>2020</td>\n",
       "      <td>4.9</td>\n",
       "    </tr>\n",
       "  </tbody>\n",
       "</table>\n",
       "</div>"
      ],
      "text/plain": [
       "   Year  Magnitude\n",
       "0  2020        4.5\n",
       "1  2020        4.5\n",
       "2  2020        4.3\n",
       "3  2020        4.2\n",
       "4  2020        4.9"
      ]
     },
     "execution_count": 2,
     "metadata": {},
     "output_type": "execute_result"
    }
   ],
   "source": [
    "#Make a dataframe with quakes and year\n",
    "quakes = pd.read_csv(\"earthquakedata.csv\")\n",
    "quakestime = pd.DataFrame(quakes)\n",
    "quakestime[\"Time\"] = pd.to_datetime(quakestime[\"Time\"],unit='ms')\n",
    "quakestime = pd.DataFrame(quakestime)\n",
    "quakestime[\"Time\"] = quakestime[\"Time\"].astype(\"str\")\n",
    "quakestime[\"Year\"] = pd.DatetimeIndex(quakestime[\"Time\"]).year\n",
    "quakestime = quakestime[[\"Year\",\"Magnitude\"]]\n",
    "quakestime.head()"
   ]
  },
  {
   "cell_type": "code",
   "execution_count": 25,
   "metadata": {},
   "outputs": [
    {
     "name": "stderr",
     "output_type": "stream",
     "text": [
      "C:\\Users\\Angie\\.conda\\envs\\PythonData\\lib\\site-packages\\ipykernel_launcher.py:3: SettingWithCopyWarning: \n",
      "A value is trying to be set on a copy of a slice from a DataFrame.\n",
      "Try using .loc[row_indexer,col_indexer] = value instead\n",
      "\n",
      "See the caveats in the documentation: https://pandas.pydata.org/pandas-docs/stable/user_guide/indexing.html#returning-a-view-versus-a-copy\n",
      "  This is separate from the ipykernel package so we can avoid doing imports until\n"
     ]
    },
    {
     "data": {
      "text/html": [
       "<div>\n",
       "<style scoped>\n",
       "    .dataframe tbody tr th:only-of-type {\n",
       "        vertical-align: middle;\n",
       "    }\n",
       "\n",
       "    .dataframe tbody tr th {\n",
       "        vertical-align: top;\n",
       "    }\n",
       "\n",
       "    .dataframe thead th {\n",
       "        text-align: right;\n",
       "    }\n",
       "</style>\n",
       "<table border=\"1\" class=\"dataframe\">\n",
       "  <thead>\n",
       "    <tr style=\"text-align: right;\">\n",
       "      <th></th>\n",
       "      <th>Year</th>\n",
       "      <th>Magnitude</th>\n",
       "    </tr>\n",
       "  </thead>\n",
       "  <tbody>\n",
       "    <tr>\n",
       "      <th>576</th>\n",
       "      <td>2008</td>\n",
       "      <td>6.3</td>\n",
       "    </tr>\n",
       "    <tr>\n",
       "      <th>775</th>\n",
       "      <td>2000</td>\n",
       "      <td>6.5</td>\n",
       "    </tr>\n",
       "    <tr>\n",
       "      <th>780</th>\n",
       "      <td>2000</td>\n",
       "      <td>6.5</td>\n",
       "    </tr>\n",
       "    <tr>\n",
       "      <th>1073</th>\n",
       "      <td>1976</td>\n",
       "      <td>6.4</td>\n",
       "    </tr>\n",
       "    <tr>\n",
       "      <th>1158</th>\n",
       "      <td>1963</td>\n",
       "      <td>6.9</td>\n",
       "    </tr>\n",
       "  </tbody>\n",
       "</table>\n",
       "</div>"
      ],
      "text/plain": [
       "      Year  Magnitude\n",
       "576   2008        6.3\n",
       "775   2000        6.5\n",
       "780   2000        6.5\n",
       "1073  1976        6.4\n",
       "1158  1963        6.9"
      ]
     },
     "execution_count": 25,
     "metadata": {},
     "output_type": "execute_result"
    }
   ],
   "source": [
    "#dataframe with quakes above 6.1 magnitude and make the year into a string value for merging later on.\n",
    "eq_above6 = quakestime.loc[quakestime['Magnitude'] >= 6.1]\n",
    "eq_above6[\"Year\"] = eq_above6[\"Year\"].astype(\"str\")\n",
    "eq_above6\n"
   ]
  },
  {
   "cell_type": "code",
   "execution_count": 22,
   "metadata": {
    "scrolled": false
   },
   "outputs": [
    {
     "data": {
      "text/html": [
       "<div>\n",
       "<style scoped>\n",
       "    .dataframe tbody tr th:only-of-type {\n",
       "        vertical-align: middle;\n",
       "    }\n",
       "\n",
       "    .dataframe tbody tr th {\n",
       "        vertical-align: top;\n",
       "    }\n",
       "\n",
       "    .dataframe thead th {\n",
       "        text-align: right;\n",
       "    }\n",
       "</style>\n",
       "<table border=\"1\" class=\"dataframe\">\n",
       "  <thead>\n",
       "    <tr style=\"text-align: right;\">\n",
       "      <th></th>\n",
       "      <th>Year</th>\n",
       "      <th>Lending/Borrowing</th>\n",
       "      <th>Domestic Savings</th>\n",
       "      <th>GDP/capita growth</th>\n",
       "      <th>Magnitude</th>\n",
       "    </tr>\n",
       "  </thead>\n",
       "  <tbody>\n",
       "    <tr>\n",
       "      <th>0</th>\n",
       "      <td>1960</td>\n",
       "      <td>NaN</td>\n",
       "      <td>NaN</td>\n",
       "      <td>NaN</td>\n",
       "      <td>NaN</td>\n",
       "    </tr>\n",
       "    <tr>\n",
       "      <th>1</th>\n",
       "      <td>1961</td>\n",
       "      <td>NaN</td>\n",
       "      <td>NaN</td>\n",
       "      <td>-2.01288</td>\n",
       "      <td>NaN</td>\n",
       "    </tr>\n",
       "    <tr>\n",
       "      <th>2</th>\n",
       "      <td>1962</td>\n",
       "      <td>NaN</td>\n",
       "      <td>NaN</td>\n",
       "      <td>6.32475</td>\n",
       "      <td>NaN</td>\n",
       "    </tr>\n",
       "    <tr>\n",
       "      <th>3</th>\n",
       "      <td>1963</td>\n",
       "      <td>NaN</td>\n",
       "      <td>NaN</td>\n",
       "      <td>8.33794</td>\n",
       "      <td>6.9</td>\n",
       "    </tr>\n",
       "    <tr>\n",
       "      <th>4</th>\n",
       "      <td>1964</td>\n",
       "      <td>NaN</td>\n",
       "      <td>NaN</td>\n",
       "      <td>7.97974</td>\n",
       "      <td>NaN</td>\n",
       "    </tr>\n",
       "    <tr>\n",
       "      <th>...</th>\n",
       "      <td>...</td>\n",
       "      <td>...</td>\n",
       "      <td>...</td>\n",
       "      <td>...</td>\n",
       "      <td>...</td>\n",
       "    </tr>\n",
       "    <tr>\n",
       "      <th>56</th>\n",
       "      <td>2015</td>\n",
       "      <td>-0.211123</td>\n",
       "      <td>26.4945</td>\n",
       "      <td>3.38502</td>\n",
       "      <td>NaN</td>\n",
       "    </tr>\n",
       "    <tr>\n",
       "      <th>57</th>\n",
       "      <td>2016</td>\n",
       "      <td>12.2461</td>\n",
       "      <td>27.8153</td>\n",
       "      <td>5.87164</td>\n",
       "      <td>NaN</td>\n",
       "    </tr>\n",
       "    <tr>\n",
       "      <th>58</th>\n",
       "      <td>2017</td>\n",
       "      <td>1.79827</td>\n",
       "      <td>26.193</td>\n",
       "      <td>2.17876</td>\n",
       "      <td>NaN</td>\n",
       "    </tr>\n",
       "    <tr>\n",
       "      <th>59</th>\n",
       "      <td>2018</td>\n",
       "      <td>-0.677957</td>\n",
       "      <td>25.6876</td>\n",
       "      <td>1.60131</td>\n",
       "      <td>NaN</td>\n",
       "    </tr>\n",
       "    <tr>\n",
       "      <th>60</th>\n",
       "      <td>2019</td>\n",
       "      <td>NaN</td>\n",
       "      <td>NaN</td>\n",
       "      <td>NaN</td>\n",
       "      <td>NaN</td>\n",
       "    </tr>\n",
       "  </tbody>\n",
       "</table>\n",
       "<p>61 rows × 5 columns</p>\n",
       "</div>"
      ],
      "text/plain": [
       "    Year Lending/Borrowing Domestic Savings GDP/capita growth  Magnitude\n",
       "0   1960               NaN              NaN               NaN        NaN\n",
       "1   1961               NaN              NaN          -2.01288        NaN\n",
       "2   1962               NaN              NaN           6.32475        NaN\n",
       "3   1963               NaN              NaN           8.33794        6.9\n",
       "4   1964               NaN              NaN           7.97974        NaN\n",
       "..   ...               ...              ...               ...        ...\n",
       "56  2015         -0.211123          26.4945           3.38502        NaN\n",
       "57  2016           12.2461          27.8153           5.87164        NaN\n",
       "58  2017           1.79827           26.193           2.17876        NaN\n",
       "59  2018         -0.677957          25.6876           1.60131        NaN\n",
       "60  2019               NaN              NaN               NaN        NaN\n",
       "\n",
       "[61 rows x 5 columns]"
      ]
     },
     "execution_count": 22,
     "metadata": {},
     "output_type": "execute_result"
    }
   ],
   "source": [
    "#Get angie's data columns and merge with the quakes above 6.1 dataframe\n",
    "\n",
    "angies = pd.read_csv(\"condensedata.csv\").T\n",
    "angies = angies[[6,7,8]]\n",
    "angies = angies.drop(angies.index[0])\n",
    "angies = angies.reset_index()\n",
    "\n",
    "angies.columns = [\"Year\",\"Lending/Borrowing\",\"Domestic Savings\",\"GDP/capita growth\"]\n",
    "\n",
    "#merge the earthquakes above 6.1 with a left join\n",
    "angies_columns = pd.merge(angies, eq_above6, on=\"Year\", how='left')\n",
    "angies_columns\n"
   ]
  },
  {
   "cell_type": "code",
   "execution_count": 32,
   "metadata": {},
   "outputs": [
    {
     "data": {
      "image/png": "[encoded data removed]",
      "text/plain": [
       "<Figure size 432x288 with 2 Axes>"
      ]
     },
     "metadata": {
      "needs_background": "light"
     },
     "output_type": "display_data"
    }
   ],
   "source": [
    "#Plot both the Net Lending/Net Borrowing and the earthquake on the same figure using twinx()\n",
    "import matplotlib.ticker as mticker\n",
    "\n",
    "fig, ax1 = plt.subplots()\n",
    "\n",
    "ax1.set_xlabel(\"Year\")\n",
    "ax1.set_ylabel(\"Net Lending/ Net Borrowing\")\n",
    "ax1.plot(angies_columns['Year'], angies_columns['Lending/Borrowing'], marker='o')\n",
    "ax1.tick_params(axis='y', labelcolor = 'blue')\n",
    "plt.xticks(rotation=90)\n",
    "\n",
    "ax2 = ax1.twinx()\n",
    "\n",
    "ax2.set_ylabel(\"Magnitude\")\n",
    "ax2.scatter(angies_columns['Year'], angies_columns[\"Magnitude\"], marker=\"o\", color='red')\n",
    "ax2.tick_params(axis = 'y', labelcolor = 'red')\n",
    "\n",
    "myLocator = mticker.MultipleLocator(4)\n",
    "ax1.xaxis.set_major_locator(myLocator)\n",
    "\n",
    "plt.show()"
   ]
  },
  {
   "cell_type": "code",
   "execution_count": 34,
   "metadata": {},
   "outputs": [
    {
     "data": {
      "image/png": "[encoded data removed]",
      "text/plain": [
       "<Figure size 432x288 with 2 Axes>"
      ]
     },
     "metadata": {
      "needs_background": "light"
     },
     "output_type": "display_data"
    }
   ],
   "source": [
    "fig, ax1 = plt.subplots()\n",
    "\n",
    "ax1.set_xlabel(\"Year\")\n",
    "ax1.set_ylabel(\"Domestic Savings\")\n",
    "ax1.plot(angies_columns['Year'], angies_columns['Domestic Savings'], marker='o')\n",
    "ax1.tick_params(axis='y', labelcolor = 'blue')\n",
    "plt.xticks(rotation=90)\n",
    "\n",
    "ax2 = ax1.twinx()\n",
    "\n",
    "ax2.set_ylabel(\"Magnitude\")\n",
    "ax2.scatter(angies_columns['Year'], angies_columns[\"Magnitude\"], marker=\"o\", color='red')\n",
    "\n",
    "ax2.tick_params(axis = 'y', labelcolor = 'red')\n",
    "\n",
    "myLocator = mticker.MultipleLocator(4)\n",
    "ax1.xaxis.set_major_locator(myLocator)\n",
    "plt.show()"
   ]
  },
  {
   "cell_type": "code",
   "execution_count": 35,
   "metadata": {},
   "outputs": [
    {
     "data": {
      "image/png": "[encoded data removed]",
      "text/plain": [
       "<Figure size 432x288 with 2 Axes>"
      ]
     },
     "metadata": {
      "needs_background": "light"
     },
     "output_type": "display_data"
    }
   ],
   "source": [
    "fig, ax1 = plt.subplots()\n",
    "\n",
    "ax1.set_xlabel(\"Year\")\n",
    "ax1.set_ylabel(\"GDP per capita growth\")\n",
    "ax1.plot(angies_columns['Year'], angies_columns['GDP/capita growth'], marker='o', )\n",
    "ax1.tick_params(axis='y', labelcolor = 'blue')\n",
    "plt.xticks(rotation=90)\n",
    "\n",
    "ax2 = ax1.twinx()\n",
    "\n",
    "ax2.set_ylabel(\"Magnitude\")\n",
    "ax2.scatter(angies_columns['Year'], angies_columns[\"Magnitude\"], marker=\"o\", color='red')\n",
    "\n",
    "ax2.tick_params(axis = 'y', labelcolor = 'red')\n",
    "\n",
    "myLocator = mticker.MultipleLocator(4)\n",
    "ax1.xaxis.set_major_locator(myLocator)\n",
    "\n",
    "plt.show()"
   ]
  },
  {
   "cell_type": "code",
   "execution_count": null,
   "metadata": {},
   "outputs": [],
   "source": []
  }
 ],
 "metadata": {
  "kernelspec": {
   "display_name": "Python [conda env:.conda-PythonData]",
   "language": "python",
   "name": "conda-env-.conda-PythonData-py"
  },
  "language_info": {
   "codemirror_mode": {
    "name": "ipython",
    "version": 3
   },
   "file_extension": ".py",
   "mimetype": "text/x-python",
   "name": "python",
   "nbconvert_exporter": "python",
   "pygments_lexer": "ipython3",
   "version": "3.6.10"
  }
 },
 "nbformat": 4,
 "nbformat_minor": 4
}
